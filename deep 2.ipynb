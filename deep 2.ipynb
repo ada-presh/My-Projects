{
 "cells": [
  {
   "cell_type": "code",
   "execution_count": null,
   "id": "4c273726-7d0d-430d-8fc3-c399340e3a3f",
   "metadata": {},
   "outputs": [],
   "source": [
    "# Re-import necessary libraries due to kernel reset\n",
    "import pandas as pd\n",
    "\n",
    "# Reload the dataset\n",
    "file_path = \"/mnt/data/bank.csv\"\n",
    "bank_df = pd.read_csv(file_path)\n",
    "\n",
    "# Display first few rows and value counts of the target variable\n",
    "initial_preview = bank_df.head()\n",
    "target_distribution = bank_df['deposit'].value_counts()\n",
    "\n",
    "initial_preview, target_distribution\n"
   ]
  },
  {
   "cell_type": "code",
   "execution_count": null,
   "id": "eeb9062f-882a-406f-882a-af786700cab8",
   "metadata": {},
   "outputs": [],
   "source": [
    "from sklearn.preprocessing import LabelEncoder\n",
    "\n",
    "# Make a copy for processing\n",
    "df = bank_df.copy()\n",
    "\n",
    "# Step 1: Check for missing values\n",
    "missing_values = df.isnull().sum()\n",
    "\n",
    "# Step 2: Encode the target variable\n",
    "df['deposit'] = df['deposit'].map({'yes': 1, 'no': 0})\n",
    "\n",
    "# Step 3: Identify categorical columns\n",
    "categorical_cols = df.select_dtypes(include='object').columns\n",
    "\n",
    "# Step 4: Encode categorical variables using Label Encoding for simplicity\n",
    "label_encoders = {}\n",
    "for col in categorical_cols:\n",
    "    le = LabelEncoder()\n",
    "    df[col] = le.fit_transform(df[col])\n",
    "    label_encoders[col] = le\n",
    "\n",
    "# Step 5: Check cleaned data\n",
    "cleaned_preview = df.head()\n",
    "df_shape = df.shape\n",
    "\n",
    "missing_values, cleaned_preview, df_shape\n"
   ]
  },
  {
   "cell_type": "code",
   "execution_count": null,
   "id": "0e09bad6-f69e-4d8a-93f1-7ca2e4faab4e",
   "metadata": {},
   "outputs": [],
   "source": [
    "from sklearn.model_selection import train_test_split\n",
    "from sklearn.preprocessing import StandardScaler\n",
    "from tensorflow.keras.models import Sequential\n",
    "from tensorflow.keras.layers import Dense, Dropout\n",
    "from tensorflow.keras.optimizers import Adam\n",
    "\n",
    "# Split data into features and target\n",
    "X = df.drop('deposit', axis=1)\n",
    "y = df['deposit']\n",
    "\n",
    "# Standardize the features\n",
    "scaler = StandardScaler()\n",
    "X_scaled = scaler.fit_transform(X)\n",
    "\n",
    "# Split into train and test sets\n",
    "X_train, X_test, y_train, y_test = train_test_split(X_scaled, y, test_size=0.2, random_state=42)\n",
    "\n",
    "# Build the deep learning model\n",
    "model = Sequential([\n",
    "    Dense(64, input_dim=X_train.shape[1], activation='relu'),\n",
    "    Dropout(0.3),\n",
    "    Dense(32, activation='relu'),\n",
    "    Dropout(0.3),\n",
    "    Dense(1, activation='sigmoid')  # Binary classification\n",
    "])\n",
    "\n",
    "# Compile the model\n",
    "model.compile(optimizer=Adam(learning_rate=0.001), loss='binary_crossentropy', metrics=['accuracy'])\n",
    "\n",
    "# Train the model\n",
    "history = model.fit(X_train, y_train, epochs=20, batch_size=32, validation_split=0.2, verbose=0)\n",
    "\n",
    "# Evaluate on test set\n",
    "test_loss, test_accuracy = model.evaluate(X_test, y_test, verbose=0)\n",
    "\n",
    "test_accuracy\n"
   ]
  }
 ],
 "metadata": {
  "kernelspec": {
   "display_name": "Python 3 (ipykernel)",
   "language": "python",
   "name": "python3"
  },
  "language_info": {
   "codemirror_mode": {
    "name": "ipython",
    "version": 3
   },
   "file_extension": ".py",
   "mimetype": "text/x-python",
   "name": "python",
   "nbconvert_exporter": "python",
   "pygments_lexer": "ipython3",
   "version": "3.12.7"
  }
 },
 "nbformat": 4,
 "nbformat_minor": 5
}
